{
 "cells": [
  {
   "cell_type": "markdown",
   "metadata": {},
   "source": [
    "# Hill Climbing (with adaptive noise scaling, without tensors) \n",
    "# CartPole-v1\n",
    "\n",
    "---\n",
    "\n",
    "   In this notebook, we train the Hill Climbing Agent with   \n",
    "**adaptive noise scaling** with OpenAI Gym's Cartpole environment."
   ]
  },
  {
   "cell_type": "markdown",
   "metadata": {},
   "source": [
    "### Policy-Based Method\n",
    "\n",
    "In **policy-based methods**, instead of learning a **value function** that tells us what is     \n",
    "the expected sum of rewards given a state and an action, we learn directly the **policy function**    \n",
    "that maps state to action (select actions without using a value function)."
   ]
  },
  {
   "cell_type": "markdown",
   "metadata": {},
   "source": [
    "### 1. Import the Necessary Packages"
   ]
  },
  {
   "cell_type": "code",
   "execution_count": 1,
   "metadata": {},
   "outputs": [],
   "source": [
    "import gym\n",
    "import numpy as np\n",
    "from collections import deque\n",
    "import matplotlib.pyplot as plt\n",
    "#%matplotlib inline\n",
    "import time\n"
   ]
  },
  {
   "cell_type": "markdown",
   "metadata": {},
   "source": [
    "### 2. Define the Policy"
   ]
  },
  {
   "cell_type": "code",
   "execution_count": 199,
   "metadata": {},
   "outputs": [
    {
     "name": "stdout",
     "output_type": "stream",
     "text": [
      "observation space: Box([-4.8000002e+00 -3.4028235e+38 -4.1887903e-01 -3.4028235e+38], [4.8000002e+00 3.4028235e+38 4.1887903e-01 3.4028235e+38], (4,), float32)\n",
      "action space: Discrete(2)\n",
      "threshold:  475.0\n"
     ]
    }
   ],
   "source": [
    "env = gym.make('CartPole-v1')\n",
    "print('observation space:', env.observation_space)\n",
    "print('action space:', env.action_space)\n",
    "threshold = env.spec.reward_threshold\n",
    "print('threshold: ', threshold)\n",
    "\n",
    "class Policy():\n",
    "    def __init__(self, s_size=4, a_size=2):\n",
    "        self.w = 1e-4*np.random.rand(s_size, a_size)  # weights for simple linear policy: state_space x action_space\n",
    "        \n",
    "    def forward(self, state):\n",
    "        x = np.dot(state, self.w)\n",
    "        return np.exp(x)/sum(np.exp(x))\n",
    "    \n",
    "    def act(self, state):\n",
    "        if isinstance(state, tuple):\n",
    "            state = state[0]\n",
    "        probs = self.forward(state)\n",
    "        #action = np.random.choice(2, p=probs) # option 1: stochastic policy\n",
    "        action = np.argmax(probs)              # option 2: deterministic policy\n",
    "        return action"
   ]
  },
  {
   "cell_type": "markdown",
   "metadata": {},
   "source": [
    "### 3. Train the Agent with Stochastic Policy Search"
   ]
  },
  {
   "cell_type": "code",
   "execution_count": 195,
   "metadata": {},
   "outputs": [],
   "source": [
    "state = env.reset()\n",
    "action = policy.act(state)\n",
    "state, reward, done, truncated, info = env.step(action) "
   ]
  },
  {
   "cell_type": "code",
   "execution_count": 196,
   "metadata": {},
   "outputs": [
    {
     "data": {
      "text/plain": [
       "numpy.ndarray"
      ]
     },
     "execution_count": 196,
     "metadata": {},
     "output_type": "execute_result"
    }
   ],
   "source": [
    "type(state)"
   ]
  },
  {
   "cell_type": "code",
   "execution_count": null,
   "metadata": {},
   "outputs": [],
   "source": []
  },
  {
   "cell_type": "code",
   "execution_count": null,
   "metadata": {},
   "outputs": [
    {
     "name": "stdout",
     "output_type": "stream",
     "text": [
      "Ep.:   1 , timesteps: 177, noise_scale (Gt >= best(Gt)): 0.0050, Gt 83.1178, \tAvg.Score:  177.000\n",
      "Ep.:   2 , timesteps:  74, noise_scale (Gt < best(Gt)): 0.0100, Gt 52.4660, \tAvg.Score:  125.500\n",
      "Ep.:   3 , timesteps:  71, noise_scale (Gt < best(Gt)): 0.0200, Gt 51.0110, \tAvg.Score:  107.333\n",
      "Ep.:   4 , timesteps:  10, noise_scale (Gt < best(Gt)): 0.0400, Gt 9.5618, \tAvg.Score:  83.000\n",
      "Ep.:   5 , timesteps:  10, noise_scale (Gt < best(Gt)): 0.0800, Gt 9.5618, \tAvg.Score:  68.400\n",
      "Ep.:   6 , timesteps:  25, noise_scale (Gt < best(Gt)): 0.1600, Gt 22.2179, \tAvg.Score:  61.167\n",
      "Ep.:   7 , timesteps:  17, noise_scale (Gt < best(Gt)): 0.3200, Gt 15.7057, \tAvg.Score:  54.857\n",
      "Ep.:   8 , timesteps:  10, noise_scale (Gt < best(Gt)): 0.6400, Gt 9.5618, \tAvg.Score:  49.250\n",
      "Ep.:   9 , timesteps:   9, noise_scale (Gt < best(Gt)): 1.2800, Gt 8.6483, \tAvg.Score:  44.778\n",
      "Ep.:  10 , timesteps:  41, noise_scale (Gt < best(Gt)): 2.0000, Gt 33.7718, \tAvg.Score:  44.400\n",
      "Ep.:  11 , timesteps:   8, noise_scale (Gt < best(Gt)): 2.0000, Gt 7.7255, \tAvg.Score:  41.091\n",
      "Ep.:  12 , timesteps:  10, noise_scale (Gt < best(Gt)): 2.0000, Gt 9.5618, \tAvg.Score:  38.500\n",
      "Ep.:  13 , timesteps:  27, noise_scale (Gt < best(Gt)): 2.0000, Gt 23.7657, \tAvg.Score:  37.615\n"
     ]
    }
   ],
   "source": [
    "# env.seed(0)\n",
    "np.random.seed(0)\n",
    "\n",
    "policy = Policy()\n",
    "\n",
    "def hill_climbing(n_episodes=1000, gamma=0.99, print_every=100, noise_scale=1e-2):\n",
    "    \"\"\"Implementation of hill climbing with adaptive noise scaling.\n",
    "        \n",
    "    Params\n",
    "    ======\n",
    "        n_episodes (int): maximum number of training episodes\n",
    "        max_t (int): maximum number of timesteps per episode\n",
    "        gamma (float): discount rate\n",
    "        print_every (int): how often to print average score (over last 100 episodes)\n",
    "        noise_scale (float): standard deviation of additive noise\n",
    "    \"\"\"\n",
    "    scores_deque = deque(maxlen=100)\n",
    "    scores = []\n",
    "    arr_noise = []\n",
    "    best_Gt = -np.Inf\n",
    "    best_w = policy.w\n",
    "    for i_episode in range(1, n_episodes+1):\n",
    "        rewards = []\n",
    "        state = env.reset()\n",
    "        timesteps = 0 ## is the same as len(rewards)\n",
    "        \n",
    "        while True:\n",
    "            action = policy.act(state)\n",
    "            state, reward, done, truncated, info = env.step(action)            \n",
    "            rewards.append(reward)\n",
    "            timesteps += 1  \n",
    "            if done:\n",
    "                break \n",
    "                \n",
    "        total_reward = sum(rewards)        \n",
    "        scores_deque.append(total_reward)\n",
    "        scores.append(total_reward)\n",
    "\n",
    "        discounts = [gamma**i for i in range(len(rewards)+1)]\n",
    "        ## This is the 'cumulative discounted reward' or TD-target G_t\n",
    "        Gt = sum([a*b for a,b in zip(discounts, rewards)])\n",
    "        \n",
    "        if Gt >= best_Gt: # found better weights\n",
    "            ## if Gt > best_R ==> decrease the noise: noise = noise/2  (till 0.001)\n",
    "            best_Gt = Gt\n",
    "            best_w = policy.w\n",
    "            noise_scale = max(1e-3, noise_scale / 2)\n",
    "            print('Ep.: {:3d} , timesteps: {:3d}, noise_scale (Gt >= best(Gt)): {:.4f}, Gt {:.4f}, \\tAvg.Score:  {:.3f}'\\\n",
    "                  .format(i_episode, timesteps, noise_scale, Gt, np.mean(scores_deque)))\n",
    "            policy.w += noise_scale * np.random.rand(*policy.w.shape) \n",
    "        else: # did not find better weights\n",
    "            ## if Gt < best_R ==> increase the noise: noise = 2*noise (till 2)\n",
    "            noise_scale = min(2, noise_scale * 2)\n",
    "            print('Ep.: {:3d} , timesteps: {:3d}, noise_scale (Gt < best(Gt)): {:.4f}, Gt {:.4f}, \\tAvg.Score:  {:.3f}'\\\n",
    "                  .format(i_episode, timesteps, noise_scale, Gt, np.mean(scores_deque)))\n",
    "            policy.w = best_w + noise_scale * np.random.rand(*policy.w.shape)\n",
    "            \n",
    "        arr_noise.append(noise_scale)   \n",
    "\n",
    "        if np.mean(scores_deque)>=threshold:\n",
    "            print('Environment solved in {:d} episodes!\\tAverage Score: {:.2f}'.format(i_episode, np.mean(scores_deque)))\n",
    "            policy.w = best_w\n",
    "            break\n",
    "    \n",
    "    return scores, arr_noise\n",
    "            \n",
    "scores, arr_noise = hill_climbing()"
   ]
  },
  {
   "cell_type": "markdown",
   "metadata": {},
   "source": [
    "### 4. Plot the Scores"
   ]
  },
  {
   "cell_type": "code",
   "execution_count": null,
   "metadata": {},
   "outputs": [],
   "source": [
    "fig = plt.figure()\n",
    "ax = fig.add_subplot(111)\n",
    "plt.plot(np.arange(1, len(scores)+1), scores)\n",
    "plt.ylabel('Score, gamma=0.99')\n",
    "plt.xlabel('Episode #')\n",
    "plt.show()"
   ]
  },
  {
   "cell_type": "code",
   "execution_count": null,
   "metadata": {},
   "outputs": [],
   "source": [
    "ax2 = fig.add_subplot(121)\n",
    "plt.plot(np.arange(1, len(arr_noise)+1), arr_noise)\n",
    "plt.ylabel('Noise Scale, gamma=0.99')\n",
    "plt.xlabel('Episode #')\n",
    "plt.show()"
   ]
  },
  {
   "cell_type": "markdown",
   "metadata": {},
   "source": [
    "### 5. Watch a Smart Agent!\n",
    "\n",
    "Each step of the Smart Agent animation includes the cl of the following _action_, _state_ and _reward_.     \n",
    "This also includes a slight _delay_ (0.1 sec) for better observation of the animation, and  further rendering."
   ]
  },
  {
   "cell_type": "code",
   "execution_count": null,
   "metadata": {},
   "outputs": [],
   "source": [
    "t1 = time.time()\n",
    "\n",
    "state = env.reset()\n",
    "timesteps = 0\n",
    "while True:\n",
    "    action = policy.act(state)\n",
    "    env.render()\n",
    "    time.sleep(0.05)\n",
    "    timesteps += 1\n",
    "    state, reward, done, _ = env.step(action)\n",
    "    if done:\n",
    "        break \n",
    "\n",
    "print('timesteps: ', timesteps)\n",
    "delta = time.time() - t1\n",
    "print('time : ', delta)\n",
    "env.close()"
   ]
  },
  {
   "cell_type": "code",
   "execution_count": null,
   "metadata": {},
   "outputs": [],
   "source": []
  }
 ],
 "metadata": {
  "anaconda-cloud": {},
  "kernelspec": {
   "display_name": "Python 3 (ipykernel)",
   "language": "python",
   "name": "python3"
  },
  "language_info": {
   "codemirror_mode": {
    "name": "ipython",
    "version": 3
   },
   "file_extension": ".py",
   "mimetype": "text/x-python",
   "name": "python",
   "nbconvert_exporter": "python",
   "pygments_lexer": "ipython3",
   "version": "3.10.1"
  }
 },
 "nbformat": 4,
 "nbformat_minor": 4
}

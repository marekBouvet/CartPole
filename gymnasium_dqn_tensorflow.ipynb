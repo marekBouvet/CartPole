{
 "cells": [
  {
   "cell_type": "code",
   "execution_count": null,
   "id": "fb300f1e",
   "metadata": {},
   "outputs": [],
   "source": [
    "# !pip install pygame"
   ]
  },
  {
   "cell_type": "code",
   "execution_count": null,
   "id": "a85047e4",
   "metadata": {},
   "outputs": [],
   "source": [
    "# !pip install Gymnasium"
   ]
  },
  {
   "cell_type": "code",
   "execution_count": 1,
   "id": "517db938-8955-4179-b913-46e83a1f2a66",
   "metadata": {},
   "outputs": [
    {
     "name": "stderr",
     "output_type": "stream",
     "text": [
      "2022-11-22 18:26:20.411844: I tensorflow/core/platform/cpu_feature_guard.cc:193] This TensorFlow binary is optimized with oneAPI Deep Neural Network Library (oneDNN) to use the following CPU instructions in performance-critical operations:  AVX2 FMA\n",
      "To enable them in other operations, rebuild TensorFlow with the appropriate compiler flags.\n"
     ]
    }
   ],
   "source": [
    "import collections\n",
    "import gymnasium as gym\n",
    "import numpy as np\n",
    "import statistics\n",
    "import tensorflow as tf\n",
    "import tqdm\n",
    "\n",
    "from matplotlib import pyplot as plt\n",
    "from tensorflow.keras import layers\n",
    "from typing import Any, List, Sequence, Tuple\n",
    "\n",
    "\n",
    "# Create the environment\n",
    "env = gym.make(\"CartPole-v1\")\n",
    "\n",
    "# Set seed for experiment reproducibility\n",
    "seed = 42\n",
    "tf.random.set_seed(seed)\n",
    "np.random.seed(seed)\n",
    "\n",
    "# Small epsilon value for stabilizing division operations\n",
    "eps = np.finfo(np.float32).eps.item()\n"
   ]
  },
  {
   "cell_type": "code",
   "execution_count": 2,
   "id": "45159d5a-9e40-4dbe-9f20-eab8c624fd17",
   "metadata": {},
   "outputs": [],
   "source": [
    "class ActorCritic(tf.keras.Model):\n",
    "  \"\"\"Combined actor-critic network.\"\"\"\n",
    "\n",
    "  def __init__(\n",
    "      self, \n",
    "      num_actions: int, \n",
    "      num_hidden_units: int):\n",
    "    \"\"\"Initialize.\"\"\"\n",
    "    super().__init__()\n",
    "\n",
    "    self.common = layers.Dense(num_hidden_units, activation=\"relu\")\n",
    "    self.actor = layers.Dense(num_actions)\n",
    "    self.critic = layers.Dense(1)\n",
    "\n",
    "  def call(self, inputs: tf.Tensor) -> Tuple[tf.Tensor, tf.Tensor]:\n",
    "    x = self.common(inputs)\n",
    "    return self.actor(x), self.critic(x)\n"
   ]
  },
  {
   "cell_type": "code",
   "execution_count": 3,
   "id": "245b92d4-4fad-4251-95a2-a41bbdeb6e3c",
   "metadata": {},
   "outputs": [
    {
     "name": "stderr",
     "output_type": "stream",
     "text": [
      "2022-11-22 18:26:24.333027: I tensorflow/core/platform/cpu_feature_guard.cc:193] This TensorFlow binary is optimized with oneAPI Deep Neural Network Library (oneDNN) to use the following CPU instructions in performance-critical operations:  AVX2 FMA\n",
      "To enable them in other operations, rebuild TensorFlow with the appropriate compiler flags.\n"
     ]
    }
   ],
   "source": [
    "num_actions = env.action_space.n  # 2\n",
    "num_hidden_units = 128\n",
    "\n",
    "model = ActorCritic(num_actions, num_hidden_units)"
   ]
  },
  {
   "cell_type": "code",
   "execution_count": 4,
   "id": "a7f1d438-dc2a-4ee7-8b22-2ec69faaeeb1",
   "metadata": {},
   "outputs": [],
   "source": [
    "# Wrap Gym's `env.step` call as an operation in a TensorFlow function.\n",
    "# This would allow it to be included in a callable TensorFlow graph.\n",
    "\n",
    "def env_step(action: np.ndarray) -> Tuple[np.ndarray, np.ndarray, np.ndarray]:\n",
    "  \"\"\"Returns state, reward and done flag given an action.\"\"\"\n",
    "\n",
    "  state, reward, done, truncated, info = env.step(action)\n",
    "  return (state.astype(np.float32), \n",
    "          np.array(reward, np.int32), \n",
    "          np.array(done, np.int32))\n",
    "\n",
    "\n",
    "def tf_env_step(action: tf.Tensor) -> List[tf.Tensor]:\n",
    "  return tf.numpy_function(env_step, [action], \n",
    "                           [tf.float32, tf.int32, tf.int32])\n"
   ]
  },
  {
   "cell_type": "code",
   "execution_count": 5,
   "id": "a757ca37-9b66-4e7a-8765-12a43c255808",
   "metadata": {},
   "outputs": [],
   "source": [
    "def run_episode(\n",
    "    initial_state: tf.Tensor,  \n",
    "    model: tf.keras.Model, \n",
    "    max_steps: int) -> Tuple[tf.Tensor, tf.Tensor, tf.Tensor]:\n",
    "  \"\"\"Runs a single episode to collect training data.\"\"\"\n",
    "\n",
    "  action_probs = tf.TensorArray(dtype=tf.float32, size=0, dynamic_size=True)\n",
    "  values = tf.TensorArray(dtype=tf.float32, size=0, dynamic_size=True)\n",
    "  rewards = tf.TensorArray(dtype=tf.int32, size=0, dynamic_size=True)\n",
    "\n",
    "  initial_state_shape = initial_state.shape\n",
    "  state = initial_state\n",
    "\n",
    "  for t in tf.range(max_steps):\n",
    "    # Convert state into a batched tensor (batch size = 1)\n",
    "    state = tf.expand_dims(state, 0)\n",
    "\n",
    "    # Run the model and to get action probabilities and critic value\n",
    "    action_logits_t, value = model(state)\n",
    "\n",
    "    # Sample next action from the action probability distribution\n",
    "    action = tf.random.categorical(action_logits_t, 1)[0, 0]\n",
    "    action_probs_t = tf.nn.softmax(action_logits_t)\n",
    "\n",
    "    # Store critic values\n",
    "    values = values.write(t, tf.squeeze(value))\n",
    "\n",
    "    # Store log probability of the action chosen\n",
    "    action_probs = action_probs.write(t, action_probs_t[0, action])\n",
    "\n",
    "    # Apply action to the environment to get next state and reward\n",
    "    state, reward, done = tf_env_step(action)\n",
    "    state.set_shape(initial_state_shape)\n",
    "\n",
    "    # Store reward\n",
    "    rewards = rewards.write(t, reward)\n",
    "\n",
    "    if tf.cast(done, tf.bool):\n",
    "      break\n",
    "\n",
    "  action_probs = action_probs.stack()\n",
    "  values = values.stack()\n",
    "  rewards = rewards.stack()\n",
    "\n",
    "  return action_probs, values, rewards"
   ]
  },
  {
   "cell_type": "code",
   "execution_count": 6,
   "id": "bf4f9cc4-341b-44bf-a2bb-ad91e0698e8a",
   "metadata": {},
   "outputs": [],
   "source": [
    "def get_expected_return(\n",
    "    rewards: tf.Tensor, \n",
    "    gamma: float, \n",
    "    standardize: bool = True) -> tf.Tensor:\n",
    "  \"\"\"Compute expected returns per timestep.\"\"\"\n",
    "\n",
    "  n = tf.shape(rewards)[0]\n",
    "  returns = tf.TensorArray(dtype=tf.float32, size=n)\n",
    "\n",
    "  # Start from the end of `rewards` and accumulate reward sums\n",
    "  # into the `returns` array\n",
    "  rewards = tf.cast(rewards[::-1], dtype=tf.float32)\n",
    "  discounted_sum = tf.constant(0.0)\n",
    "  discounted_sum_shape = discounted_sum.shape\n",
    "  for i in tf.range(n):\n",
    "    reward = rewards[i]\n",
    "    discounted_sum = reward + gamma * discounted_sum\n",
    "    discounted_sum.set_shape(discounted_sum_shape)\n",
    "    returns = returns.write(i, discounted_sum)\n",
    "  returns = returns.stack()[::-1]\n",
    "\n",
    "  if standardize:\n",
    "    returns = ((returns - tf.math.reduce_mean(returns)) / \n",
    "               (tf.math.reduce_std(returns) + eps))\n",
    "\n",
    "  return returns"
   ]
  },
  {
   "cell_type": "code",
   "execution_count": 7,
   "id": "23ab8859-9dbc-43be-b8e6-fc82f9fbc7cd",
   "metadata": {},
   "outputs": [],
   "source": [
    "huber_loss = tf.keras.losses.Huber(reduction=tf.keras.losses.Reduction.SUM)\n",
    "\n",
    "def compute_loss(\n",
    "    action_probs: tf.Tensor,  \n",
    "    values: tf.Tensor,  \n",
    "    returns: tf.Tensor) -> tf.Tensor:\n",
    "  \"\"\"Computes the combined Actor-Critic loss.\"\"\"\n",
    "\n",
    "  advantage = returns - values\n",
    "\n",
    "  action_log_probs = tf.math.log(action_probs)\n",
    "  actor_loss = -tf.math.reduce_sum(action_log_probs * advantage)\n",
    "\n",
    "  critic_loss = huber_loss(values, returns)\n",
    "\n",
    "  return actor_loss + critic_loss"
   ]
  },
  {
   "cell_type": "code",
   "execution_count": 8,
   "id": "1f770e78-85da-438e-b8bf-780dab33f52f",
   "metadata": {},
   "outputs": [],
   "source": [
    "optimizer = tf.keras.optimizers.Adam(learning_rate=0.01)\n",
    "\n",
    "\n",
    "@tf.function\n",
    "def train_step(\n",
    "    initial_state: tf.Tensor, \n",
    "    model: tf.keras.Model, \n",
    "    optimizer: tf.keras.optimizers.Optimizer, \n",
    "    gamma: float, \n",
    "    max_steps_per_episode: int) -> tf.Tensor:\n",
    "  \"\"\"Runs a model training step.\"\"\"\n",
    "\n",
    "  with tf.GradientTape() as tape:\n",
    "\n",
    "    # Run the model for one episode to collect training data\n",
    "    action_probs, values, rewards = run_episode(\n",
    "        initial_state, model, max_steps_per_episode) \n",
    "\n",
    "    # Calculate the expected returns\n",
    "    returns = get_expected_return(rewards, gamma)\n",
    "\n",
    "    # Convert training data to appropriate TF tensor shapes\n",
    "    action_probs, values, returns = [\n",
    "        tf.expand_dims(x, 1) for x in [action_probs, values, returns]] \n",
    "\n",
    "    # Calculate the loss values to update our network\n",
    "    loss = compute_loss(action_probs, values, returns)\n",
    "\n",
    "  # Compute the gradients from the loss\n",
    "  grads = tape.gradient(loss, model.trainable_variables)\n",
    "\n",
    "  # Apply the gradients to the model's parameters\n",
    "  optimizer.apply_gradients(zip(grads, model.trainable_variables))\n",
    "\n",
    "  episode_reward = tf.math.reduce_sum(rewards)\n",
    "\n",
    "  return episode_reward"
   ]
  },
  {
   "cell_type": "code",
   "execution_count": 15,
   "id": "c39c7625-5e0b-4650-b386-0d74887a44ef",
   "metadata": {},
   "outputs": [
    {
     "name": "stderr",
     "output_type": "stream",
     "text": [
      " 15%|█████████                                                   | 1502/10000 [00:59<05:35, 25.35it/s, episode_reward=500, running_reward=475]"
     ]
    },
    {
     "name": "stdout",
     "output_type": "stream",
     "text": [
      "\n",
      "Solved at episode 1502: average reward: 475.03!\n",
      "CPU times: user 1min 17s, sys: 4.09 s, total: 1min 21s\n",
      "Wall time: 59.3 s\n"
     ]
    },
    {
     "name": "stderr",
     "output_type": "stream",
     "text": [
      "\n"
     ]
    }
   ],
   "source": [
    "%%time\n",
    "\n",
    "min_episodes_criterion = 100\n",
    "max_episodes = 10000\n",
    "max_steps_per_episode = 500\n",
    "\n",
    "# `CartPole-v1` is considered solved if average reward is >= 475 over 500 \n",
    "# consecutive trials\n",
    "reward_threshold = 475\n",
    "running_reward = 0\n",
    "\n",
    "# The discount factor for future rewards\n",
    "gamma = 0.99\n",
    "\n",
    "# Keep the last episodes reward\n",
    "episodes_reward: collections.deque = collections.deque(maxlen=min_episodes_criterion)\n",
    "\n",
    "t = tqdm.trange(max_episodes)\n",
    "for i in t:\n",
    "    initial_state, info = env.reset()\n",
    "    initial_state = tf.constant(initial_state, dtype=tf.float32)\n",
    "    episode_reward = int(train_step(\n",
    "        initial_state, model, optimizer, gamma, max_steps_per_episode))\n",
    "\n",
    "    episodes_reward.append(episode_reward)\n",
    "    running_reward = statistics.mean(episodes_reward)\n",
    "\n",
    "\n",
    "    t.set_postfix(\n",
    "        episode_reward=episode_reward, running_reward=running_reward)\n",
    "\n",
    "    # Show the average episode reward every 10 episodes\n",
    "    if i % 10 == 0:\n",
    "      pass # print(f'Episode {i}: average reward: {avg_reward}')\n",
    "\n",
    "    if running_reward > reward_threshold and i >= min_episodes_criterion:  \n",
    "        break\n",
    "\n",
    "print(f'\\nSolved at episode {i}: average reward: {running_reward:.2f}!')\n"
   ]
  },
  {
   "cell_type": "code",
   "execution_count": 12,
   "id": "4269e98d-e82d-418c-ac77-0ab577061816",
   "metadata": {},
   "outputs": [],
   "source": [
    "# Render an episode and save as a GIF file\n",
    "\n",
    "from IPython import display as ipythondisplay\n",
    "from PIL import Image\n",
    "\n",
    "render_env = gym.make(\"CartPole-v1\", render_mode='rgb_array')\n",
    "\n",
    "def render_episode(env: gym.Env, model: tf.keras.Model, max_steps: int): \n",
    "  state, info = render_env.reset()\n",
    "  state = tf.constant(state, dtype=tf.float32)\n",
    "  screen = render_env.render()\n",
    "  images = [Image.fromarray(screen)]\n",
    "\n",
    "  for i in range(1, max_steps + 1):\n",
    "    state = tf.expand_dims(state, 0)\n",
    "    action_probs, _ = model(state)\n",
    "    action = np.argmax(np.squeeze(action_probs))\n",
    "\n",
    "    state, reward, done, truncated, info = render_env.step(action)\n",
    "    state = tf.constant(state, dtype=tf.float32)\n",
    "\n",
    "    # Render screen every 10 steps\n",
    "    if i % 10 == 0:\n",
    "      screen = render_env.render()\n",
    "      images.append(Image.fromarray(screen))\n",
    "\n",
    "    if done:\n",
    "      break\n",
    "\n",
    "  return images\n",
    "\n",
    "\n",
    "# Save GIF image\n",
    "images = render_episode(env, model, max_steps_per_episode)\n",
    "image_file = 'cartpole-v1.gif'\n",
    "# loop=0: loop forever, duration=1: play each frame for 1ms\n",
    "images[0].save(\n",
    "    image_file, save_all=True, append_images=images[1:], loop=0, duration=1)\n"
   ]
  },
  {
   "cell_type": "code",
   "execution_count": 13,
   "id": "8e313645-bbb3-4909-ae3b-57896b1147a1",
   "metadata": {},
   "outputs": [],
   "source": [
    "\"\"\"Simple functions for embedding data in a notebook file.\"\"\"\n",
    "\n",
    "import base64\n",
    "import mimetypes\n",
    "import os\n",
    "import pathlib\n",
    "import textwrap\n",
    "\n",
    "import IPython.display\n",
    "\n",
    "\n",
    "def embed_data(mime: str, data: bytes) -> IPython.display.HTML:\n",
    "  \"\"\"Embeds data as an html tag with a data-url.\"\"\"\n",
    "  b64 = base64.b64encode(data).decode()\n",
    "  if mime.startswith('image'):\n",
    "    tag = f'<img src=\"data:{mime};base64,{b64}\"/>'\n",
    "  elif mime.startswith('video'):\n",
    "    tag = textwrap.dedent(f\"\"\"\n",
    "        <video width=\"640\" height=\"480\" controls>\n",
    "          <source src=\"data:{mime};base64,{b64}\" type=\"video/mp4\">\n",
    "          Your browser does not support the video tag.\n",
    "        </video>\n",
    "        \"\"\")\n",
    "  else:\n",
    "    raise ValueError('Images and Video only.')\n",
    "  return IPython.display.HTML(tag)\n",
    "\n",
    "\n",
    "def embed_file(path: os.PathLike) -> IPython.display.HTML:\n",
    "  \"\"\"Embeds a file in the notebook as an html tag with a data-url.\"\"\"\n",
    "  path = pathlib.Path(path)\n",
    "  mime, unused_encoding = mimetypes.guess_type(str(path))\n",
    "  data = path.read_bytes()\n",
    "\n",
    "  return embed_data(mime, data)"
   ]
  },
  {
   "cell_type": "code",
   "execution_count": 14,
   "id": "273e078f-7037-4128-9d82-145a1e69a0d0",
   "metadata": {},
   "outputs": [
    {
     "data": {
      "text/html": [
       "<img src=\"data:image/gif;base64,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\"/>"
      ],
      "text/plain": [
       "<IPython.core.display.HTML object>"
      ]
     },
     "execution_count": 14,
     "metadata": {},
     "output_type": "execute_result"
    }
   ],
   "source": [
    "embed_file(image_file)"
   ]
  },
  {
   "cell_type": "code",
   "execution_count": null,
   "id": "ead7bdcc-030a-4d3f-9531-180df413d5ac",
   "metadata": {},
   "outputs": [],
   "source": []
  }
 ],
 "metadata": {
  "kernelspec": {
   "display_name": "Python 3 (ipykernel)",
   "language": "python",
   "name": "python3"
  },
  "language_info": {
   "codemirror_mode": {
    "name": "ipython",
    "version": 3
   },
   "file_extension": ".py",
   "mimetype": "text/x-python",
   "name": "python",
   "nbconvert_exporter": "python",
   "pygments_lexer": "ipython3",
   "version": "3.10.1"
  },
  "vscode": {
   "interpreter": {
    "hash": "aee8b7b246df8f9039afb4144a1f6fd8d2ca17a180786b69acc140d282b71a49"
   }
  }
 },
 "nbformat": 4,
 "nbformat_minor": 5
}
